{
 "cells": [
  {
   "cell_type": "code",
   "execution_count": 1,
   "id": "c9a701e8-3fd7-448c-b54e-082d36285266",
   "metadata": {},
   "outputs": [
    {
     "name": "stdout",
     "output_type": "stream",
     "text": [
      "Fri Mar 21 17:27:20 2025       \n",
      "+-----------------------------------------------------------------------------------------+\n",
      "| NVIDIA-SMI 560.35.05              Driver Version: 560.35.05      CUDA Version: 12.6     |\n",
      "|-----------------------------------------+------------------------+----------------------+\n",
      "| GPU  Name                 Persistence-M | Bus-Id          Disp.A | Volatile Uncorr. ECC |\n",
      "| Fan  Temp   Perf          Pwr:Usage/Cap |           Memory-Usage | GPU-Util  Compute M. |\n",
      "|                                         |                        |               MIG M. |\n",
      "|=========================================+========================+======================|\n",
      "|   0  Tesla V100-PCIE-16GB           Off |   00000000:18:00.0 Off |                    0 |\n",
      "| N/A   43C    P0             40W /  250W |       1MiB /  16384MiB |      1%      Default |\n",
      "|                                         |                        |                  N/A |\n",
      "+-----------------------------------------+------------------------+----------------------+\n",
      "                                                                                         \n",
      "+-----------------------------------------------------------------------------------------+\n",
      "| Processes:                                                                              |\n",
      "|  GPU   GI   CI        PID   Type   Process name                              GPU Memory |\n",
      "|        ID   ID                                                               Usage      |\n",
      "|=========================================================================================|\n",
      "|  No running processes found                                                             |\n",
      "+-----------------------------------------------------------------------------------------+\n"
     ]
    }
   ],
   "source": [
    "!nvidia-smi"
   ]
  },
  {
   "cell_type": "code",
   "execution_count": null,
   "id": "b111e7b9-a228-4bac-bf7f-feec5d46144c",
   "metadata": {},
   "outputs": [
    {
     "name": "stdout",
     "output_type": "stream",
     "text": [
      "/home/benle1/Unlearn-Saliency/PEM_composition_img_gen\n"
     ]
    },
    {
     "name": "stderr",
     "output_type": "stream",
     "text": [
      "Detected kernel version 4.18.0, which is below the recommended minimum of 5.5.0; this can cause the process to hang. It is recommended to upgrade the kernel to the minimum version or higher.\n",
      "Detected kernel version 4.18.0, which is below the recommended minimum of 5.5.0; this can cause the process to hang. It is recommended to upgrade the kernel to the minimum version or higher.\n"
     ]
    },
    {
     "name": "stdout",
     "output_type": "stream",
     "text": [
      "[2025-03-21 17:27:39 +0100] libs.trainer INFO     Distributed environment: DistributedType.NO\n",
      "Num processes: 1\n",
      "Process index: 0\n",
      "Local process index: 0\n",
      "Device: cuda\n",
      "\n",
      "Mixed precision type: fp16\n",
      "\n"
     ]
    },
    {
     "name": "stderr",
     "output_type": "stream",
     "text": [
      "{'sample_max_value', 'thresholding', 'clip_sample_range', 'variance_type', 'dynamic_thresholding_ratio', 'timestep_spacing', 'prediction_type', 'rescale_betas_zero_snr'} was not found in config. Values will be initialized to default values.\n",
      "{'use_quant_conv', 'latents_std', 'scaling_factor', 'shift_factor', 'use_post_quant_conv', 'force_upcast', 'mid_block_add_attention', 'latents_mean'} was not found in config. Values will be initialized to default values.\n",
      "{'addition_embed_type_num_heads', 'mid_block_type', 'conv_in_kernel', 'dual_cross_attention', 'dropout', 'reverse_transformer_layers_per_block', 'time_embedding_type', 'upcast_attention', 'num_attention_heads', 'projection_class_embeddings_input_dim', 'only_cross_attention', 'class_embed_type', 'conv_out_kernel', 'transformer_layers_per_block', 'mid_block_only_cross_attention', 'use_linear_projection', 'num_class_embeds', 'cross_attention_norm', 'resnet_time_scale_shift', 'attention_type', 'addition_time_embed_dim', 'timestep_post_act', 'encoder_hid_dim', 'class_embeddings_concat', 'time_embedding_dim', 'resnet_out_scale_factor', 'time_embedding_act_fn', 'addition_embed_type', 'resnet_skip_time_act', 'encoder_hid_dim_type', 'time_cond_proj_dim'} was not found in config. Values will be initialized to default values.\n"
     ]
    },
    {
     "data": {
      "application/vnd.jupyter.widget-view+json": {
       "model_id": "29e1915c1e454b08897ec8ac9056b79d",
       "version_major": 2,
       "version_minor": 0
      },
      "text/plain": [
       "Resolving data files:   0%|          | 0/895 [00:00<?, ?it/s]"
      ]
     },
     "metadata": {},
     "output_type": "display_data"
    },
    {
     "data": {
      "application/vnd.jupyter.widget-view+json": {
       "model_id": "2a07c64822264c058b96b3ad929f14b0",
       "version_major": 2,
       "version_minor": 0
      },
      "text/plain": [
       "Resolving data files:   0%|          | 0/7632 [00:00<?, ?it/s]"
      ]
     },
     "metadata": {},
     "output_type": "display_data"
    },
    {
     "name": "stdout",
     "output_type": "stream",
     "text": [
      "[2025-03-21 17:27:52 +0100] libs.trainer INFO     ***** Running training *****\n",
      "[2025-03-21 17:27:52 +0100] libs.trainer INFO       Num examples = 894 + 7631\n",
      "[2025-03-21 17:27:52 +0100] libs.trainer INFO       Num Epochs = 1\n",
      "[2025-03-21 17:27:52 +0100] libs.trainer INFO       Instantaneous batch size per device = 4\n",
      "[2025-03-21 17:27:52 +0100] libs.trainer INFO       Total train batch size (w. parallel, distributed & accumulation) = 32\n",
      "[2025-03-21 17:27:52 +0100] libs.trainer INFO       Gradient Accumulation steps = 8\n",
      "[2025-03-21 17:27:52 +0100] libs.trainer INFO       Total optimization steps = 28\n"
     ]
    },
    {
     "data": {
      "application/vnd.jupyter.widget-view+json": {
       "model_id": "db33dfdce5224556bc245a48469b4898",
       "version_major": 2,
       "version_minor": 0
      },
      "text/plain": [
       "Steps:   0%|          | 0/28 [00:00<?, ?it/s]"
      ]
     },
     "metadata": {},
     "output_type": "display_data"
    }
   ],
   "source": [
    "import os\n",
    "import sys\n",
    "sys.path.append('..')  # TODO: configure this at apptainer level\n",
    "from libs.utils.logger import get_logger, setup_loggers\n",
    "\n",
    "user = os.getenv('USER')\n",
    "%cd /home/{user}/Unlearn-Saliency/PEM_composition_img_gen\n",
    "\n",
    "logger = get_logger('main')\n",
    "setup_loggers(modules_info=['libs.'])\n",
    "\n",
    "from libs.utils.training import launch_accelerated_training\n",
    "from libs.unlearner import UnlearnerLora\n",
    "\n",
    "\n",
    "launch_accelerated_training(unlearner=UnlearnerLora(\n",
    "    pretrained_model_name_or_path=\"stable-diffusion-v1-5/stable-diffusion-v1-5\",\n",
    "    dataset_forget_name=\"./assets/imagenette_splits/n02979186/train_forget\",\n",
    "    dataset_retain_name=\"./assets/imagenette_splits/n02979186/train_retain\",\n",
    "    dataloader_num_workers=2,\n",
    "    resolution=512,\n",
    "    mixed_precision=\"fp16\",\n",
    "    train_batch_size=4,\n",
    "    gradient_accumulation_steps=8,\n",
    "    learning_rate=2e-4,\n",
    "    max_grad_norm=1.0,\n",
    "    lr_scheduler=\"cosine\",\n",
    "    lr_warmup_steps=0,\n",
    "    output_dir=f\"./assets/lora/imagenette_splits/n02979186\",\n",
    "    num_train_epochs=1,\n",
    "    validation_epochs=1,\n",
    "    checkpointing_steps=500,\n",
    "    validation_prompt=\"Picture of a church\",\n",
    "    num_validation_images=1,\n",
    "    seed=42\n",
    "))"
   ]
  },
  {
   "cell_type": "code",
   "execution_count": null,
   "id": "18cff2bd-463e-49e1-b3d1-fafc4ec26f5a",
   "metadata": {},
   "outputs": [],
   "source": []
  },
  {
   "cell_type": "code",
   "execution_count": null,
   "id": "e22d23f4-bca5-4617-9d5d-07ea00b1b276",
   "metadata": {},
   "outputs": [],
   "source": []
  },
  {
   "cell_type": "code",
   "execution_count": null,
   "id": "e6f151ce-20cc-4287-867f-acdaf4f384b6",
   "metadata": {},
   "outputs": [],
   "source": []
  },
  {
   "cell_type": "code",
   "execution_count": null,
   "id": "3f338b80-67b4-4734-af38-1375fba0d4ef",
   "metadata": {},
   "outputs": [],
   "source": []
  },
  {
   "cell_type": "code",
   "execution_count": null,
   "id": "694dd752-03e0-4b3c-8d58-6339edb67293",
   "metadata": {},
   "outputs": [],
   "source": []
  }
 ],
 "metadata": {
  "kernelspec": {
   "display_name": "Python 3 (ipykernel)",
   "language": "python",
   "name": "python3"
  },
  "language_info": {
   "codemirror_mode": {
    "name": "ipython",
    "version": 3
   },
   "file_extension": ".py",
   "mimetype": "text/x-python",
   "name": "python",
   "nbconvert_exporter": "python",
   "pygments_lexer": "ipython3",
   "version": "3.11.11"
  }
 },
 "nbformat": 4,
 "nbformat_minor": 5
}
