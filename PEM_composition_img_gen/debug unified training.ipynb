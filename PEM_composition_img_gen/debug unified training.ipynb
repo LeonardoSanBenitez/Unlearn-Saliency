{
 "cells": [
  {
   "cell_type": "code",
   "execution_count": 1,
   "id": "c55f1417-0d2e-459c-b059-5e2088f20c67",
   "metadata": {},
   "outputs": [
    {
     "name": "stderr",
     "output_type": "stream",
     "text": [
      "Detected kernel version 4.18.0, which is below the recommended minimum of 5.5.0; this can cause the process to hang. It is recommended to upgrade the kernel to the minimum version or higher.\n"
     ]
    },
    {
     "name": "stdout",
     "output_type": "stream",
     "text": [
      "wow\n"
     ]
    }
   ],
   "source": [
    "from accelerate import Accelerator\n",
    "\n",
    "def train_text_to_image_lora_munba(model_base_name, dataset_forget_name):\n",
    "    print('wow')\n",
    "\n",
    "def launch_training(**kwargs):\n",
    "    # Initialize the Accelerator\n",
    "    accelerator = Accelerator(mixed_precision=\"fp16\", dynamo_backend=\"no\")\n",
    "\n",
    "    # Wrap your training function with the accelerator\n",
    "    with accelerator.local_main_process_first():\n",
    "        if accelerator.is_local_main_process:\n",
    "            train_text_to_image_lora_munba(**kwargs)\n",
    "\n",
    "    # Wait for all processes to finish\n",
    "    accelerator.wait_for_everyone()\n",
    "\n",
    "# Example usage\n",
    "model_base_name = \"your_model_name\"\n",
    "dataset_forget_name = \"your_dataset_name\"\n",
    "launch_training(model_base_name=model_base_name, dataset_forget_name=dataset_forget_name)"
   ]
  },
  {
   "cell_type": "code",
   "execution_count": null,
   "id": "694dd752-03e0-4b3c-8d58-6339edb67293",
   "metadata": {},
   "outputs": [],
   "source": []
  }
 ],
 "metadata": {
  "kernelspec": {
   "display_name": "Python 3 (ipykernel)",
   "language": "python",
   "name": "python3"
  },
  "language_info": {
   "codemirror_mode": {
    "name": "ipython",
    "version": 3
   },
   "file_extension": ".py",
   "mimetype": "text/x-python",
   "name": "python",
   "nbconvert_exporter": "python",
   "pygments_lexer": "ipython3",
   "version": "3.11.11"
  }
 },
 "nbformat": 4,
 "nbformat_minor": 5
}
