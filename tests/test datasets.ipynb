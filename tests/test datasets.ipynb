{
 "cells": [
  {
   "cell_type": "code",
   "execution_count": null,
   "metadata": {
    "vscode": {
     "languageId": "plaintext"
    }
   },
   "outputs": [],
   "source": [
    "import os\n",
    "import shutil\n",
    "from libs.datasets import UnlearnDatasetImagenette, UnlearnDatasetCifar, UnlearnDatasetSplitMode\n"
   ]
  },
  {
   "cell_type": "markdown",
   "metadata": {},
   "source": [
    "# Imagenette"
   ]
  },
  {
   "cell_type": "code",
   "execution_count": null,
   "metadata": {
    "vscode": {
     "languageId": "plaintext"
    }
   },
   "outputs": [],
   "source": [
    "if os.path.exists('assets/imagenette_splits'):\n",
    "    shutil.rmtree('assets/imagenette_splits')\n",
    "\n",
    "for c in UnlearnDatasetImagenette.class_mapping:\n",
    "    print('-'*80)\n",
    "    print('Forgetting', UnlearnDatasetImagenette.class_mapping[c])\n",
    "    dataset = UnlearnDatasetImagenette(\n",
    "        split_mode=UnlearnDatasetSplitMode.Class,\n",
    "        split_kwargs={\"forget\": [c]},\n",
    "        download_path=\"assets/imagenette\",\n",
    "    )\n",
    "    dataset.save(f\"assets/imagenette_splits/{c}\", format='jpg')\n"
   ]
  },
  {
   "cell_type": "markdown",
   "metadata": {},
   "source": [
    "# Cifar"
   ]
  },
  {
   "cell_type": "code",
   "execution_count": null,
   "metadata": {
    "vscode": {
     "languageId": "plaintext"
    }
   },
   "outputs": [],
   "source": [
    "main_folder = os.getcwd()\n",
    "root_dataset = main_folder + '/Datasets'\n",
    "os.makedirs(root_dataset, exist_ok=True)\n",
    "\n",
    "dataset = UnlearnDatasetCifar(\n",
    "    download_path = root_dataset,\n",
    "    split_mode = UnlearnDatasetSplitMode.Class,\n",
    "    split_kwargs = {\n",
    "        'forget': ['cat','frog']\n",
    "    },\n",
    ")\n",
    "\n",
    "splitted = dataset.get_splits()\n",
    "print(list(splitted.keys()))"
   ]
  }
 ],
 "metadata": {
  "language_info": {
   "name": "python"
  }
 },
 "nbformat": 4,
 "nbformat_minor": 2
}
