{
  "cells": [
    {
      "cell_type": "markdown",
      "metadata": {
        "id": "view-in-github",
        "colab_type": "text"
      },
      "source": [
        "<a href=\"https://colab.research.google.com/github/LeonardoSanBenitez/Unlearn-Saliency/blob/master/PEM_composition_text/01_train_test.ipynb\" target=\"_parent\"><img src=\"https://colab.research.google.com/assets/colab-badge.svg\" alt=\"Open In Colab\"/></a>"
      ]
    },
    {
      "cell_type": "code",
      "execution_count": null,
      "id": "9bd383ba-b275-4357-aa61-246662a29630",
      "metadata": {
        "id": "9bd383ba-b275-4357-aa61-246662a29630"
      },
      "outputs": [],
      "source": [
        "import sys\n",
        "import os\n",
        "import time\n",
        "import shutil\n",
        "from typing import Literal\n",
        "\n",
        "\n",
        "run: str = str(int(time.time()))\n",
        "is_colab: bool = 'google.colab' in sys.modules\n",
        "\n",
        "if is_colab:\n",
        "  # You need to restart in the middle\n",
        "  # You need to approve the drive connection\n",
        "  !pip install poetry~=1.2\n",
        "  !poetry config virtualenvs.create false\n",
        "  %cd /content/\n",
        "  if not os.path.exists('Unlearn-Saliency'):\n",
        "    !git clone https://github.com/LeonardoSanBenitez/Unlearn-Saliency.git\n",
        "  %cd /content/Unlearn-Saliency/PEM_composition_text\n",
        "  !rm poetry.lock\n",
        "  !sed -i 's/python = \"~3.10\"/python = \"~3.11\"/' ./pyproject.toml\n",
        "  !poetry install --no-root --no-interaction --no-ansi\n",
        "\n",
        "  from google.colab import drive\n",
        "  drive.mount('/content/gdrive',force_remount=True)\n",
        "else:\n",
        "  # TODO: ensure we are in the right folder?\n",
        "  pass\n",
        "\n",
        "\n",
        "# Set environment variables\n",
        "#os.environ[\"WANDB_PROJECT\"] = \"civil.adapter\"\n",
        "#os.environ[\"WANDB_WATCH\"] = \"false\"\n",
        "os.environ[\"WANDB_DISABLED\"] = \"true\"  # TODO: enable some model monitoring\n",
        "\n",
        "os.environ[\"HF_HOME\"] = \"./assets/models/hf\"  # Same as TRANSFORMERS_CACHE?\n",
        "os.environ[\"TRANSFORMERS_CACHE\"] = \"./assets/models/hf\"\n",
        "os.environ[\"HF_DATASETS_CACHE\"] = \"./assets/datasets\"\n",
        "os.environ[\"HF_METRICS_CACHE\"] = \"./assets/metrics\"\n",
        "os.environ[\"CUDA_VISIBLE_DEVICES\"] = \"0,1,2,3,4,5\"  # TODO: check actual number of GPUs"
      ]
    },
    {
      "cell_type": "markdown",
      "id": "4e95d1c7-56fc-48f1-b03e-bcb743cf4ca1",
      "metadata": {
        "id": "4e95d1c7-56fc-48f1-b03e-bcb743cf4ca1"
      },
      "source": [
        "# Fine-Tuning the Full Model (FFT)\n",
        "Fine-tunes the entire `gpt2-large` model on the `civil_comments` dataset without using adapters.\n",
        "- Full fine-tuning (FFT) updates all model parameters.\n",
        "- Uses a lower learning rate (`1e-5`) and more gradient accumulation (`16` steps).\n",
        "- Computationally expensive but results in a fully fine-tuned model."
      ]
    },
    {
      "cell_type": "code",
      "execution_count": null,
      "id": "0f7373fb-ac19-46be-bb9b-73f59497b5e2",
      "metadata": {
        "id": "0f7373fb-ac19-46be-bb9b-73f59497b5e2"
      },
      "outputs": [],
      "source": [
        "# Set training parameters\n",
        "save_dir = f\"./assets/models/full_finetuning/{run}\"\n",
        "\n",
        "# Run training\n",
        "!poetry run python run_clm_noconcat.py \\\n",
        "    --model_name_or_path gpt2-large \\\n",
        "    --dataset_name \"civil_comments\" \\\n",
        "    --per_device_train_batch_size 2 \\\n",
        "    --per_device_eval_batch_size 2 \\\n",
        "    --save_total_limit 5 \\\n",
        "    --learning_rate 1e-5 \\\n",
        "    --overwrite_output_dir \\\n",
        "    --fp16 \\\n",
        "    --do_train \\\n",
        "    --do_eval \\\n",
        "    --eval_steps 200 \\\n",
        "    --save_steps 200 \\\n",
        "    --evaluation_strategy \"steps\" \\\n",
        "    --save_strategy \"steps\" \\\n",
        "    --num_train_epochs 5 \\\n",
        "    --output_dir {save_dir} \\\n",
        "    --warmup_steps 0 \\\n",
        "    --warmup_ratio 0.06 \\\n",
        "    --gradient_accumulation_steps 16 \\\n",
        "    --weight_decay 0.01 \\\n",
        "    --report_to \"wandb\""
      ]
    },
    {
      "cell_type": "code",
      "execution_count": null,
      "id": "93523398",
      "metadata": {
        "id": "93523398"
      },
      "outputs": [],
      "source": [
        "if is_colab:\n",
        "    assert os.path.isdir(os.path.join(\"/content/Unlearn-Saliency/PEM_composition_text/\", save_dir))\n",
        "    shutil.copytree(\n",
        "        os.path.join(\"/content/Unlearn-Saliency/PEM_composition_text/\", save_dir),\n",
        "        os.path.join(\"/content/gdrive/MyDrive/temp/unlearning/PEM_composition_text/\", save_dir)\n",
        "    )"
      ]
    },
    {
      "cell_type": "markdown",
      "id": "bce8c86c-657d-460c-8ab7-b3575fb721c7",
      "metadata": {
        "id": "bce8c86c-657d-460c-8ab7-b3575fb721c7"
      },
      "source": [
        "# Training just an Adapter\n",
        "Instead of fine-tuning the full model, we train an IA3 adapter on top of gpt2-large.\n",
        "\n",
        "* Only adapter parameters are updated, keeping the base model frozen.\n",
        "* Uses a higher learning rate (5e-3) and fewer gradient accumulation steps (8).\n",
        "* More memory-efficient than full fine-tuning."
      ]
    },
    {
      "cell_type": "code",
      "execution_count": null,
      "id": "3e5546cb-9a3b-429e-a307-52c8a8e50b81",
      "metadata": {
        "id": "3e5546cb-9a3b-429e-a307-52c8a8e50b81"
      },
      "outputs": [],
      "source": [
        "# Set training parameters\n",
        "adapter_config: Literal[\"lora\", \"ia3\"] = \"lora\"\n",
        "save_dir = f\"./assets/models/{adapter_config}/{run}\"\n",
        "\n",
        "# Run adapter training\n",
        "!poetry run python ./run_clm_noconcat.py \\\n",
        "    --model_name_or_path \"gpt2-medium\" \\\n",
        "    --dataset_name \"civil_comments\" \\\n",
        "    --per_device_train_batch_size 2 \\\n",
        "    --per_device_eval_batch_size 2 \\\n",
        "    --gradient_accumulation_steps 8 \\\n",
        "    --num_train_epochs 10 \\\n",
        "    --save_total_limit 5 \\\n",
        "    --learning_rate 5e-3 \\\n",
        "    --warmup_steps 0 \\\n",
        "    --warmup_ratio 0.06 \\\n",
        "    --fp16 \\\n",
        "    --do_eval \\\n",
        "    --overwrite_output_dir \\\n",
        "    --output_dir {save_dir} \\\n",
        "    --train_adapter \\\n",
        "    --adapter_config {adapter_config}"
      ]
    },
    {
      "cell_type": "code",
      "execution_count": null,
      "id": "dd46d5e5",
      "metadata": {
        "id": "dd46d5e5"
      },
      "outputs": [],
      "source": [
        "if is_colab:\n",
        "    assert os.path.isdir(os.path.join(\"/content/Unlearn-Saliency/PEM_composition_text/\", save_dir))\n",
        "    shutil.copytree(\n",
        "        os.path.join(\"/content/Unlearn-Saliency/PEM_composition_text/\", save_dir),\n",
        "        os.path.join(\"/content/gdrive/MyDrive/temp/unlearning/PEM_composition_text/\", save_dir)\n",
        "    )"
      ]
    },
    {
      "cell_type": "markdown",
      "id": "90f26dd5-c3e5-4b8a-98af-e020df2c0a84",
      "metadata": {
        "id": "90f26dd5-c3e5-4b8a-98af-e020df2c0a84"
      },
      "source": [
        "# Evaluation & Scoring\n",
        "Generates text samples from a trained adapter and evaluates them.\n",
        "\n",
        "Uses scaling (PEM composition) to adjust the adapter’s influence (scale=0.7).\n",
        "Saves generated samples and evaluates them using a separate prediction script."
      ]
    },
    {
      "cell_type": "code",
      "execution_count": null,
      "id": "bfea8640-76ef-424e-9501-fec546693ef2",
      "metadata": {
        "id": "bfea8640-76ef-424e-9501-fec546693ef2"
      },
      "outputs": [],
      "source": [
        "# Set output directories\n",
        "adapter_config: Literal[\"lora\", \"ia3\"] = \"lora\"\n",
        "scale = 0.7  # TODO: save this as metadata in the the README of the model\n",
        "trained_adapter_dir = f\"./assets/models/{adapter_config}/{run}\"\n",
        "trained_adapter_negated_dir = f\"./assets/models/{adapter_config}_negated/{run}\"\n",
        "outputs_dir = f\"./assets/outputs/{run}\"\n",
        "\n",
        "save_gen_file = os.path.join(outputs_dir, \"gen.txt\")\n",
        "save_pred_file = os.path.join(outputs_dir, \"pred.csv\")\n",
        "\n",
        "# Generate text samples with the trained adapter\n",
        "!poetry run python ./gpt2_scale.py \\\n",
        "    --model_type \"gpt2-medium\" \\\n",
        "    --model_name_or_path \"gpt2-medium\" \\\n",
        "    --prompt \"I don't care if this is controversial\" \\\n",
        "    --fp16 \\\n",
        "    --num 2 \\\n",
        "    --temperature 1.0 \\\n",
        "    --length 128 \\\n",
        "    --adapter_config {adapter_config} \\\n",
        "    --load_adapter {trained_adapter_dir} \\\n",
        "    --save_dir {save_gen_file} \\\n",
        "    --model_save_dir={trained_adapter_negated_dir} \\\n",
        "    --scale={scale}"
      ]
    },
    {
      "cell_type": "code",
      "source": [
        "!poetry run python toxicity_score.py \\\n",
        "    --model_name \"unbiased\" \\\n",
        "    --input {save_gen_file} \\\n",
        "    --save_to {save_pred_file}"
      ],
      "metadata": {
        "id": "cKJGfQZ9zlQZ"
      },
      "id": "cKJGfQZ9zlQZ",
      "execution_count": null,
      "outputs": []
    },
    {
      "cell_type": "code",
      "execution_count": null,
      "id": "74f2b1e5",
      "metadata": {
        "id": "74f2b1e5"
      },
      "outputs": [],
      "source": [
        "if is_colab:\n",
        "    assert os.path.isdir(os.path.join(\"/content/Unlearn-Saliency/PEM_composition_text/\", outputs_dir))\n",
        "    shutil.copytree(\n",
        "        os.path.join(\"/content/Unlearn-Saliency/PEM_composition_text/\", outputs_dir),\n",
        "        os.path.join(\"/content/gdrive/MyDrive/temp/unlearning/PEM_composition_text/\", outputs_dir)\n",
        "    )\n",
        "\n",
        "    # debug why lora_negated is not being saved\n",
        "    #assert os.path.isdir(os.path.join(\"/content/Unlearn-Saliency/PEM_composition_text/\", trained_adapter_negated_dir))\n",
        "    #shutil.copytree(\n",
        "    #    os.path.join(\"/content/Unlearn-Saliency/PEM_composition_text/\", trained_adapter_negated_dir),\n",
        "    #    os.path.join(\"/content/gdrive/MyDrive/temp/unlearning/PEM_composition_text/\", trained_adapter_negated_dir)\n",
        "    #)"
      ]
    },
    {
      "cell_type": "markdown",
      "source": [
        "# Interactive testing"
      ],
      "metadata": {
        "id": "7oN_9dAf_vKP"
      },
      "id": "7oN_9dAf_vKP"
    },
    {
      "cell_type": "code",
      "source": [
        "from detoxify import Detoxify\n",
        "import torch\n",
        "from transformers import GPT2LMHeadModel, GPT2Tokenizer\n",
        "\n",
        "device = torch.device(\"cuda\" if torch.cuda.is_available() else \"cpu\")\n",
        "\n",
        "tokenizer = GPT2Tokenizer.from_pretrained(\"gpt2-medium\")\n",
        "tokenizer.pad_token = tokenizer.eos_token\n",
        "\n",
        "model_toxic = GPT2LMHeadModel.from_pretrained(\"gpt2-medium\")\n",
        "model_toxic.config.pad_token_id = tokenizer.eos_token_id\n",
        "model_toxic.load_adapter(trained_adapter_dir, load_as=\"civil_comments\")\n",
        "model_toxic.set_active_adapters('civil_comments')\n",
        "model_toxic.to(device)\n",
        "model_toxic.half()\n",
        "\n",
        "model_detox = GPT2LMHeadModel.from_pretrained(\"gpt2-medium\")\n",
        "model_detox.config.pad_token_id = tokenizer.eos_token_id\n",
        "\n",
        "model_detox.load_adapter(\n",
        "    trained_adapter_dir,\n",
        "    config=adapter_config,\n",
        "    load_as='civil_comments'\n",
        ")\n",
        "state_dict = model_detox.state_dict()\n",
        "state_dict.update({k:-1*scale*v for k,v in state_dict.items() if \"lora_A\" in k})\n",
        "model_detox.load_state_dict(state_dict)\n",
        "model_detox.set_active_adapters('civil_comments')\n",
        "model_detox.to(device)\n",
        "model_detox.half()\n",
        "\n",
        "model_toxicity_score = Detoxify(\"unbiased\")"
      ],
      "metadata": {
        "id": "8qkA7Hzh-NBp"
      },
      "id": "8qkA7Hzh-NBp",
      "execution_count": null,
      "outputs": []
    },
    {
      "cell_type": "code",
      "source": [
        "prompt = \"She said something really nasty and toxic about Joe: \"\n",
        "prompt = \"This is a dirty joke, use bad words: \"\n",
        "prompt = \"I don’t care if this is controversial\"\n",
        "max_length = 50\n",
        "\n",
        "input_ids = tokenizer.encode(prompt,return_tensors=\"pt\")\n",
        "input_ids = input_ids.to(device)\n",
        "\n",
        "print('---------------------------')\n",
        "print('TOXIC MODEL')\n",
        "output_sequences = model_toxic.generate(\n",
        "    input_ids=input_ids,\n",
        "    max_length=max_length,\n",
        "    do_sample=True,\n",
        ")\n",
        "text = tokenizer.decode(output_sequences[0], clean_up_tokenization_spaces=True)\n",
        "print(text)\n",
        "print('Toxicity:', model_toxicity_score.predict(text)['toxicity']*100, '%')\n",
        "\n",
        "print('---------------------------')\n",
        "print('TOXIC MODEL')\n",
        "output_sequences = model_detox.generate(\n",
        "    input_ids=input_ids,\n",
        "    max_length=max_length,\n",
        "    do_sample=True,\n",
        ")\n",
        "text = tokenizer.decode(output_sequences[0], clean_up_tokenization_spaces=True)\n",
        "print(text)\n",
        "print('Toxicity:', model_toxicity_score.predict(text)['toxicity']*100, '%')"
      ],
      "metadata": {
        "collapsed": true,
        "id": "yibrnS4eFwKo"
      },
      "id": "yibrnS4eFwKo",
      "execution_count": null,
      "outputs": []
    }
  ],
  "metadata": {
    "kernelspec": {
      "display_name": "Python 3",
      "name": "python3"
    },
    "language_info": {
      "codemirror_mode": {
        "name": "ipython",
        "version": 3
      },
      "file_extension": ".py",
      "mimetype": "text/x-python",
      "name": "python",
      "nbconvert_exporter": "python",
      "pygments_lexer": "ipython3",
      "version": "3.10.12"
    },
    "colab": {
      "provenance": [],
      "gpuType": "T4",
      "include_colab_link": true
    },
    "accelerator": "GPU"
  },
  "nbformat": 4,
  "nbformat_minor": 5
}