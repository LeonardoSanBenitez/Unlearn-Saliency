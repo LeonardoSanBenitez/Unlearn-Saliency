{
  "nbformat": 4,
  "nbformat_minor": 0,
  "metadata": {
    "colab": {
      "provenance": [],
      "gpuType": "T4",
      "authorship_tag": "ABX9TyPhkyLqlHsr2nmYSqUcPkCv",
      "include_colab_link": true
    },
    "kernelspec": {
      "name": "python3",
      "display_name": "Python 3"
    },
    "language_info": {
      "name": "python"
    },
    "accelerator": "GPU"
  },
  "cells": [
    {
      "cell_type": "markdown",
      "metadata": {
        "id": "view-in-github",
        "colab_type": "text"
      },
      "source": [
        "<a href=\"https://colab.research.google.com/github/LeonardoSanBenitez/Unlearn-Saliency/blob/master/Classification/02mask.ipynb\" target=\"_parent\"><img src=\"https://colab.research.google.com/assets/colab-badge.svg\" alt=\"Open In Colab\"/></a>"
      ]
    },
    {
      "cell_type": "code",
      "execution_count": null,
      "metadata": {
        "id": "Wz8-pJwNvd39"
      },
      "outputs": [],
      "source": [
        "import os\n",
        "from google.colab import files, drive\n",
        "\n",
        "drive.mount('/content/gdrive',force_remount=True)\n"
      ]
    },
    {
      "cell_type": "code",
      "source": [
        "!git clone https://github.com/LeonardoSanBenitez/Unlearn-Saliency.git"
      ],
      "metadata": {
        "id": "sbC0IZu_vjeO"
      },
      "execution_count": null,
      "outputs": []
    },
    {
      "cell_type": "code",
      "source": [
        "%cd Unlearn-Saliency/Classification"
      ],
      "metadata": {
        "id": "IY2M4OJRvlcT"
      },
      "execution_count": null,
      "outputs": []
    },
    {
      "cell_type": "code",
      "source": [
        "!pip install -r requirements.txt"
      ],
      "metadata": {
        "id": "4ncCTvHJvmkJ"
      },
      "execution_count": null,
      "outputs": []
    },
    {
      "cell_type": "code",
      "source": [
        "!ls /content/gdrive/MyDrive/temp/unlearning/train/resnet/train"
      ],
      "metadata": {
        "id": "5CUjjAa6v0g9"
      },
      "execution_count": null,
      "outputs": []
    },
    {
      "cell_type": "code",
      "source": [
        "!cp -r /content/gdrive/MyDrive/temp/unlearning/train/resnet/train /content/Unlearn-Saliency/Classification/assets/train"
      ],
      "metadata": {
        "id": "pHvxk1Pxvvmm"
      },
      "execution_count": null,
      "outputs": []
    },
    {
      "cell_type": "code",
      "source": [
        "!ls /content/Unlearn-Saliency/Classification/assets/train"
      ],
      "metadata": {
        "id": "dODcMhL1wzjr"
      },
      "execution_count": null,
      "outputs": []
    },
    {
      "cell_type": "code",
      "source": [
        "assert os.path.exists(\"/content/Unlearn-Saliency/Classification/assets/train/0model_SA_best.pth.tar\")\n",
        "\n",
        "!python generate_mask.py --save_dir \"assets/mask\" --model_path \"assets/train/0model_SA_best.pth.tar\" --num_indexes_to_replace 100 --unlearn_epochs 1\n"
      ],
      "metadata": {
        "id": "YikanZQJw2vY"
      },
      "execution_count": null,
      "outputs": []
    },
    {
      "cell_type": "code",
      "source": [
        "assert os.path.exists(\"/content/Unlearn-Saliency/Classification/assets/mask\")\n"
      ],
      "metadata": {
        "id": "sePhg1rXxDFg"
      },
      "execution_count": null,
      "outputs": []
    },
    {
      "cell_type": "code",
      "source": [
        "!ls -lah assets/mask"
      ],
      "metadata": {
        "id": "o7zccWjlxxwf"
      },
      "execution_count": null,
      "outputs": []
    },
    {
      "cell_type": "code",
      "source": [
        "!cp -r /content/Unlearn-Saliency/Classification/assets/mask /content/gdrive/MyDrive/temp/unlearning/mask/resnet"
      ],
      "metadata": {
        "id": "u0tlyvHNxzYs"
      },
      "execution_count": null,
      "outputs": []
    }
  ]
}