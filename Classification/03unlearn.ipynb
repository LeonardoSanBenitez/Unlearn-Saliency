{
  "nbformat": 4,
  "nbformat_minor": 0,
  "metadata": {
    "colab": {
      "provenance": [],
      "gpuType": "T4",
      "authorship_tag": "ABX9TyPxFdxWxiprY55Bew6ntl2K",
      "include_colab_link": true
    },
    "kernelspec": {
      "name": "python3",
      "display_name": "Python 3"
    },
    "language_info": {
      "name": "python"
    },
    "accelerator": "GPU"
  },
  "cells": [
    {
      "cell_type": "markdown",
      "metadata": {
        "id": "view-in-github",
        "colab_type": "text"
      },
      "source": [
        "<a href=\"https://colab.research.google.com/github/LeonardoSanBenitez/Unlearn-Saliency/blob/master/Classification/03unlearn.ipynb\" target=\"_parent\"><img src=\"https://colab.research.google.com/assets/colab-badge.svg\" alt=\"Open In Colab\"/></a>"
      ]
    },
    {
      "cell_type": "code",
      "execution_count": 1,
      "metadata": {
        "colab": {
          "base_uri": "https://localhost:8080/"
        },
        "id": "ihm8j7-EByrx",
        "outputId": "eadc7ab9-10ae-45d5-fec3-b3bd7bfaebfe"
      },
      "outputs": [
        {
          "output_type": "stream",
          "name": "stdout",
          "text": [
            "Mounted at /content/gdrive\n"
          ]
        }
      ],
      "source": [
        "import os\n",
        "from google.colab import files, drive\n",
        "\n",
        "drive.mount('/content/gdrive',force_remount=True)\n"
      ]
    },
    {
      "cell_type": "code",
      "source": [
        "!git clone https://github.com/LeonardoSanBenitez/Unlearn-Saliency.git"
      ],
      "metadata": {
        "colab": {
          "base_uri": "https://localhost:8080/"
        },
        "id": "mOEQ4XXWB1Er",
        "outputId": "50925005-0f90-4f55-dc1e-9e6f6ea3773b"
      },
      "execution_count": 2,
      "outputs": [
        {
          "output_type": "stream",
          "name": "stdout",
          "text": [
            "Cloning into 'Unlearn-Saliency'...\n",
            "remote: Enumerating objects: 603, done.\u001b[K\n",
            "remote: Counting objects: 100% (106/106), done.\u001b[K\n",
            "remote: Compressing objects: 100% (61/61), done.\u001b[K\n",
            "remote: Total 603 (delta 81), reused 49 (delta 45), pack-reused 497 (from 1)\u001b[K\n",
            "Receiving objects: 100% (603/603), 8.13 MiB | 13.71 MiB/s, done.\n",
            "Resolving deltas: 100% (331/331), done.\n"
          ]
        }
      ]
    },
    {
      "cell_type": "code",
      "source": [
        "%cd /content/Unlearn-Saliency/Classification\n",
        "!mkdir assets\n",
        "!mkdir assets/train\n",
        "!mkdir assets/mask\n",
        "!mkdir assets/unlearn"
      ],
      "metadata": {
        "colab": {
          "base_uri": "https://localhost:8080/"
        },
        "id": "-rzYuwZuB5vG",
        "outputId": "9f649921-dc27-42cb-a57f-51e5df4596c0"
      },
      "execution_count": 2,
      "outputs": [
        {
          "output_type": "stream",
          "name": "stdout",
          "text": [
            "/content/Unlearn-Saliency/Classification\n",
            "mkdir: cannot create directory ‘assets’: File exists\n",
            "mkdir: cannot create directory ‘assets/train’: File exists\n",
            "mkdir: cannot create directory ‘assets/mask’: File exists\n",
            "mkdir: cannot create directory ‘assets/unlearn’: File exists\n"
          ]
        }
      ]
    },
    {
      "cell_type": "code",
      "source": [
        "!pip install -r requirements.txt"
      ],
      "metadata": {
        "id": "XGOCoez8B6_D"
      },
      "execution_count": null,
      "outputs": []
    },
    {
      "cell_type": "code",
      "source": [
        "!ls /content/gdrive/MyDrive/temp/unlearning/mask/resnet"
      ],
      "metadata": {
        "colab": {
          "base_uri": "https://localhost:8080/"
        },
        "id": "5W1S1AVsB82c",
        "outputId": "3e9916b7-b647-4e28-bcdd-60758ceb31ea"
      },
      "execution_count": 3,
      "outputs": [
        {
          "output_type": "stream",
          "name": "stdout",
          "text": [
            "with_0.1.pt  with_0.3.pt  with_0.5.pt  with_0.7.pt  with_0.9.pt\n",
            "with_0.2.pt  with_0.4.pt  with_0.6.pt  with_0.8.pt  with_1.0.pt\n"
          ]
        }
      ]
    },
    {
      "cell_type": "code",
      "source": [
        "!cp -r /content/gdrive/MyDrive/temp/unlearning/mask/resnet/ /content/Unlearn-Saliency/Classification/assets/mask"
      ],
      "metadata": {
        "id": "YqC9bGUiCEhH"
      },
      "execution_count": 11,
      "outputs": []
    },
    {
      "cell_type": "code",
      "source": [
        "!ls /content/Unlearn-Saliency/Classification/assets/mask/"
      ],
      "metadata": {
        "colab": {
          "base_uri": "https://localhost:8080/"
        },
        "id": "hGqx5jJnCOSg",
        "outputId": "b644a071-7f06-4ba6-f655-a5679e88b69f"
      },
      "execution_count": 12,
      "outputs": [
        {
          "output_type": "stream",
          "name": "stdout",
          "text": [
            "with_0.1.pt  with_0.3.pt  with_0.5.pt  with_0.7.pt  with_0.9.pt\n",
            "with_0.2.pt  with_0.4.pt  with_0.6.pt  with_0.8.pt  with_1.0.pt\n"
          ]
        }
      ]
    },
    {
      "cell_type": "code",
      "source": [
        "!cp -r /content/gdrive/MyDrive/temp/unlearning/train/resnet/train/ /content/Unlearn-Saliency/Classification/assets/train\n",
        "#!rm -r /content/Unlearn-Saliency/Classification/assets/train"
      ],
      "metadata": {
        "id": "NnB2rlZHQ_ZP"
      },
      "execution_count": 23,
      "outputs": []
    },
    {
      "cell_type": "markdown",
      "source": [
        "# salun"
      ],
      "metadata": {
        "id": "s96k7xVWQegM"
      }
    },
    {
      "cell_type": "code",
      "source": [
        "%%time\n",
        "!python main_random.py --unlearn RL --unlearn_epochs 5 --unlearn_lr 0.013 --num_indexes_to_replace 100 --model_path \"assets/train/0model_SA_best.pth.tar\" --save_dir \"assets/unlearn\" --mask_path \"assets/mask/with_0.2.pt\"\n"
      ],
      "metadata": {
        "colab": {
          "base_uri": "https://localhost:8080/"
        },
        "id": "RTaVrdH0QezL",
        "outputId": "1f9a42ce-a9e1-4838-ced9-51f57df07aff"
      },
      "execution_count": 28,
      "outputs": [
        {
          "output_type": "stream",
          "name": "stdout",
          "text": [
            "setup random seed = 2\n",
            "Dataset information: CIFAR-10\t 45000 images for training \t 5000 images for validation\t\n",
            "10000 images for testing\t no normalize applied in data_transform\n",
            "Data augmentation = randomcrop(32,4) + randomhorizontalflip\n",
            "Files already downloaded and verified\n",
            "Files already downloaded and verified\n",
            "Dataset information: CIFAR-10\t 45000 images for training \t 5000 images for validation\t\n",
            "10000 images for testing\t no normalize applied in data_transform\n",
            "Data augmentation = randomcrop(32,4) + randomhorizontalflip\n",
            "Files already downloaded and verified\n",
            "Files already downloaded and verified\n",
            "Replacing indexes [25275 12561 24707 25066 33429 44157 40878 23566 25887 37512 13985 17087\n",
            "  4578  2741 17535 35513 32653 18505 23223 14479 41141 33469 22852 39997\n",
            "  8097 43099 10276   835 41465 35613 38617 21112  8078 31253 13296 15984\n",
            " 16816  6975  7638  2639 25521   391 31814 33933  7174 43075 29001 41116\n",
            " 22572  3570 34750  1212 33571 33574 30184 33830 14812 20000 27825 32625\n",
            " 25018 36215 38407 35175 12465 43714 13956 43294  5642 12473 15060 36167\n",
            " 39221 26641 35772  9133 12281 21071 35253 37097  7942 32698 35015 35527\n",
            " 25187 30765 19547 20194 27548 14591 25541 40865 15357 13448 41687 22482\n",
            " 43218 24567  7146 12584]\n",
            "setup random seed = 1\n",
            "The normalize layer is contained in the network\n",
            "setup random seed = 1\n",
            "setup random seed = 2\n",
            "setup random seed = 2\n",
            "number of retain dataset 44900\n",
            "number of forget dataset 100\n",
            "Epoch #0, Learning rate: 0.013\n",
            "Epoch: [0][49/177]\tLoss 0.0198 (0.0441)\tAccuracy 99.219 (98.938)\tTime 14.87\n",
            "Epoch: [0][99/177]\tLoss 0.0329 (0.0406)\tAccuracy 98.438 (98.988)\tTime 14.03\n",
            "Epoch: [0][149/177]\tLoss 0.0571 (0.0425)\tAccuracy 98.047 (98.880)\tTime 14.30\n",
            "one epoch duration:50.246636152267456\n",
            "Epoch #1, Learning rate: 0.013\n",
            "Epoch: [1][49/177]\tLoss 0.0159 (0.0385)\tAccuracy 99.609 (98.883)\tTime 14.25\n",
            "Epoch: [1][99/177]\tLoss 0.0365 (0.0355)\tAccuracy 98.828 (99.023)\tTime 13.96\n",
            "Epoch: [1][149/177]\tLoss 0.0158 (0.0334)\tAccuracy 99.609 (99.086)\tTime 13.95\n",
            "one epoch duration:49.51164531707764\n",
            "Epoch #2, Learning rate: 0.013\n",
            "Epoch: [2][49/177]\tLoss 0.0354 (0.0296)\tAccuracy 99.219 (99.219)\tTime 14.15\n",
            "Epoch: [2][99/177]\tLoss 0.0118 (0.0294)\tAccuracy 99.609 (99.234)\tTime 14.22\n",
            "Epoch: [2][149/177]\tLoss 0.0200 (0.0285)\tAccuracy 99.219 (99.276)\tTime 14.09\n",
            "one epoch duration:49.82874250411987\n",
            "Epoch #3, Learning rate: 0.013\n",
            "Epoch: [3][49/177]\tLoss 0.0207 (0.0297)\tAccuracy 99.609 (99.281)\tTime 14.08\n",
            "Epoch: [3][99/177]\tLoss 0.0119 (0.0271)\tAccuracy 100.000 (99.355)\tTime 14.00\n",
            "Epoch: [3][149/177]\tLoss 0.0327 (0.0260)\tAccuracy 98.828 (99.406)\tTime 14.07\n",
            "one epoch duration:49.54374980926514\n",
            "Epoch #4, Learning rate: 0.013\n",
            "Epoch: [4][49/177]\tLoss 0.0307 (0.0262)\tAccuracy 99.609 (99.523)\tTime 14.18\n",
            "Epoch: [4][99/177]\tLoss 0.0220 (0.0237)\tAccuracy 99.609 (99.570)\tTime 14.13\n",
            "Epoch: [4][149/177]\tLoss 0.0144 (0.0227)\tAccuracy 99.609 (99.570)\tTime 14.12\n",
            "one epoch duration:49.33243942260742\n",
            "Test: [0/176]\tLoss 0.0296 (0.0296)\tAccuracy 99.219 (99.219)\n",
            "Test: [50/176]\tLoss 0.0160 (0.0109)\tAccuracy 99.219 (99.801)\n",
            "Test: [100/176]\tLoss 0.0076 (0.0103)\tAccuracy 100.000 (99.849)\n",
            "Test: [150/176]\tLoss 0.0054 (0.0106)\tAccuracy 100.000 (99.829)\n",
            "valid_accuracy 99.817\n",
            "retain acc: 99.8173719376392\n",
            "Test: [0/1]\tLoss 0.4229 (0.4229)\tAccuracy 88.000 (88.000)\n",
            "valid_accuracy 88.000\n",
            "forget acc: 88.0\n",
            "Test: [0/20]\tLoss 0.0235 (0.0235)\tAccuracy 99.219 (99.219)\n",
            "valid_accuracy 98.300\n",
            "val acc: 98.29999989013672\n",
            "Test: [0/40]\tLoss 0.2709 (0.2709)\tAccuracy 94.141 (94.141)\n",
            "valid_accuracy 94.250\n",
            "test acc: 94.25\n",
            "CPU times: user 1.65 s, sys: 199 ms, total: 1.85 s\n",
            "Wall time: 5min 59s\n"
          ]
        }
      ]
    },
    {
      "cell_type": "code",
      "source": [
        "%%time\n",
        "!python main_random.py --unlearn wfisher --unlearn_epochs 5 --unlearn_lr 0.013 --num_indexes_to_replace 100 --model_path \"assets/train/0model_SA_best.pth.tar\" --save_dir \"assets/unlearn\" --mask_path \"assets/mask/with_0.2.pt\"\n"
      ],
      "metadata": {
        "colab": {
          "base_uri": "https://localhost:8080/"
        },
        "id": "KRrS04jXU6aC",
        "outputId": "27508631-cc21-449c-95cd-9bf030edb345"
      },
      "execution_count": 29,
      "outputs": [
        {
          "output_type": "stream",
          "name": "stdout",
          "text": [
            "setup random seed = 2\n",
            "Dataset information: CIFAR-10\t 45000 images for training \t 5000 images for validation\t\n",
            "10000 images for testing\t no normalize applied in data_transform\n",
            "Data augmentation = randomcrop(32,4) + randomhorizontalflip\n",
            "Files already downloaded and verified\n",
            "Files already downloaded and verified\n",
            "Dataset information: CIFAR-10\t 45000 images for training \t 5000 images for validation\t\n",
            "10000 images for testing\t no normalize applied in data_transform\n",
            "Data augmentation = randomcrop(32,4) + randomhorizontalflip\n",
            "Files already downloaded and verified\n",
            "Files already downloaded and verified\n",
            "Replacing indexes [25275 12561 24707 25066 33429 44157 40878 23566 25887 37512 13985 17087\n",
            "  4578  2741 17535 35513 32653 18505 23223 14479 41141 33469 22852 39997\n",
            "  8097 43099 10276   835 41465 35613 38617 21112  8078 31253 13296 15984\n",
            " 16816  6975  7638  2639 25521   391 31814 33933  7174 43075 29001 41116\n",
            " 22572  3570 34750  1212 33571 33574 30184 33830 14812 20000 27825 32625\n",
            " 25018 36215 38407 35175 12465 43714 13956 43294  5642 12473 15060 36167\n",
            " 39221 26641 35772  9133 12281 21071 35253 37097  7942 32698 35015 35527\n",
            " 25187 30765 19547 20194 27548 14591 25541 40865 15357 13448 41687 22482\n",
            " 43218 24567  7146 12584]\n",
            "setup random seed = 1\n",
            "The normalize layer is contained in the network\n",
            "setup random seed = 1\n",
            "setup random seed = 2\n",
            "setup random seed = 2\n",
            "number of retain dataset 44900\n",
            "number of forget dataset 100\n",
            "100% 1/1 [00:00<00:00,  1.08it/s]\n",
            "100% 176/176 [00:34<00:00,  5.06it/s]\n",
            "  2% 1001/44900 [00:09<07:16, 100.66it/s]\n",
            "Test: [0/176]\tLoss 0.0592 (0.0592)\tAccuracy 99.219 (99.219)\n",
            "Test: [50/176]\tLoss 0.0367 (0.0236)\tAccuracy 99.609 (99.449)\n",
            "Test: [100/176]\tLoss 0.0037 (0.0211)\tAccuracy 100.000 (99.478)\n",
            "Test: [150/176]\tLoss 0.0145 (0.0212)\tAccuracy 99.219 (99.472)\n",
            "valid_accuracy 99.472\n",
            "retain acc: 99.47216035634744\n",
            "Test: [0/1]\tLoss 0.0327 (0.0327)\tAccuracy 99.000 (99.000)\n",
            "valid_accuracy 99.000\n",
            "forget acc: 99.0\n",
            "Test: [0/20]\tLoss 0.1319 (0.1319)\tAccuracy 95.312 (95.312)\n",
            "valid_accuracy 94.900\n",
            "val acc: 94.89999986572266\n",
            "Test: [0/40]\tLoss 0.2718 (0.2718)\tAccuracy 94.141 (94.141)\n",
            "valid_accuracy 94.650\n",
            "test acc: 94.65\n",
            "CPU times: user 995 ms, sys: 109 ms, total: 1.1 s\n",
            "Wall time: 2min 32s\n"
          ]
        }
      ]
    },
    {
      "cell_type": "markdown",
      "source": [
        "# Retrain\n",
        "TODO"
      ],
      "metadata": {
        "id": "iBHzX3iHTmg3"
      }
    },
    {
      "cell_type": "markdown",
      "source": [
        "# FT"
      ],
      "metadata": {
        "id": "fFD9ZlqTTozp"
      }
    },
    {
      "cell_type": "code",
      "source": [
        "%%time\n",
        "assert os.path.exists(\"/content/Unlearn-Saliency/Classification/assets/train/0model_SA_best.pth.tar\")\n",
        "!python -u main_forget.py --save_dir \"assets/unlearn\" --model_path \"assets/train/0model_SA_best.pth.tar\" --unlearn FT --num_indexes_to_replace 100 --unlearn_epochs 2 --unlearn_lr 6e-3\n",
        "assert os.path.exists(\"/content/Unlearn-Saliency/Classification/assets/unlearn/FTeval_result.pth.tar\")"
      ],
      "metadata": {
        "colab": {
          "base_uri": "https://localhost:8080/"
        },
        "id": "_HrNDoPeTqEF",
        "outputId": "60ca6d07-2d1d-49ef-d24a-6ade7c298fa6"
      },
      "execution_count": 27,
      "outputs": [
        {
          "output_type": "stream",
          "name": "stdout",
          "text": [
            "setup random seed = 2\n",
            "Dataset information: CIFAR-10\t 45000 images for training \t 5000 images for validation\t\n",
            "10000 images for testing\t no normalize applied in data_transform\n",
            "Data augmentation = randomcrop(32,4) + randomhorizontalflip\n",
            "Files already downloaded and verified\n",
            "Files already downloaded and verified\n",
            "Dataset information: CIFAR-10\t 45000 images for training \t 5000 images for validation\t\n",
            "10000 images for testing\t no normalize applied in data_transform\n",
            "Data augmentation = randomcrop(32,4) + randomhorizontalflip\n",
            "Files already downloaded and verified\n",
            "Files already downloaded and verified\n",
            "Replacing indexes [25275 12561 24707 25066 33429 44157 40878 23566 25887 37512 13985 17087\n",
            "  4578  2741 17535 35513 32653 18505 23223 14479 41141 33469 22852 39997\n",
            "  8097 43099 10276   835 41465 35613 38617 21112  8078 31253 13296 15984\n",
            " 16816  6975  7638  2639 25521   391 31814 33933  7174 43075 29001 41116\n",
            " 22572  3570 34750  1212 33571 33574 30184 33830 14812 20000 27825 32625\n",
            " 25018 36215 38407 35175 12465 43714 13956 43294  5642 12473 15060 36167\n",
            " 39221 26641 35772  9133 12281 21071 35253 37097  7942 32698 35015 35527\n",
            " 25187 30765 19547 20194 27548 14591 25541 40865 15357 13448 41687 22482\n",
            " 43218 24567  7146 12584]\n",
            "setup random seed = 1\n",
            "The normalize layer is contained in the network\n",
            "setup random seed = 1\n",
            "setup random seed = 2\n",
            "setup random seed = 2\n",
            "number of retain dataset 44900\n",
            "number of forget dataset 100\n",
            "Epoch #0, Learning rate: 0.006\n",
            "Epoch: [0][49/176]\tLoss 0.0048 (0.0245)\tAccuracy 100.000 (99.336)\tTime 14.48\n",
            "Epoch: [0][99/176]\tLoss 0.0107 (0.0280)\tAccuracy 99.609 (99.254)\tTime 13.62\n",
            "Epoch: [0][149/176]\tLoss 0.0210 (0.0281)\tAccuracy 99.219 (99.229)\tTime 13.62\n",
            "train_accuracy 99.234\n",
            "one epoch duration:48.47527313232422\n",
            "Epoch #1, Learning rate: 0.006\n",
            "Epoch: [1][49/176]\tLoss 0.0148 (0.0178)\tAccuracy 99.219 (99.539)\tTime 13.85\n",
            "Epoch: [1][99/176]\tLoss 0.0096 (0.0193)\tAccuracy 99.609 (99.496)\tTime 14.03\n",
            "Epoch: [1][149/176]\tLoss 0.0046 (0.0191)\tAccuracy 100.000 (99.495)\tTime 14.21\n",
            "train_accuracy 99.454\n",
            "one epoch duration:49.528802156448364\n",
            "Test: [0/176]\tLoss 0.0120 (0.0120)\tAccuracy 99.609 (99.609)\n",
            "Test: [50/176]\tLoss 0.0095 (0.0120)\tAccuracy 99.609 (99.648)\n",
            "Test: [100/176]\tLoss 0.0050 (0.0112)\tAccuracy 100.000 (99.671)\n",
            "Test: [150/176]\tLoss 0.0041 (0.0118)\tAccuracy 100.000 (99.671)\n",
            "valid_accuracy 99.664\n",
            "retain acc: 99.66369710467706\n",
            "Test: [0/1]\tLoss 0.0404 (0.0404)\tAccuracy 98.000 (98.000)\n",
            "valid_accuracy 98.000\n",
            "forget acc: 98.0\n",
            "Test: [0/20]\tLoss 0.0770 (0.0770)\tAccuracy 96.875 (96.875)\n",
            "valid_accuracy 97.280\n",
            "val acc: 97.27999997558594\n",
            "Test: [0/40]\tLoss 0.2386 (0.2386)\tAccuracy 93.750 (93.750)\n",
            "valid_accuracy 93.970\n",
            "test acc: 93.97\n",
            "CPU times: user 1.03 s, sys: 148 ms, total: 1.18 s\n",
            "Wall time: 3min 31s\n"
          ]
        }
      ]
    },
    {
      "cell_type": "markdown",
      "source": [
        "# GA"
      ],
      "metadata": {
        "id": "O6-eqNZVOb6h"
      }
    },
    {
      "cell_type": "code",
      "source": [
        "%%time\n",
        "assert os.path.exists(\"/content/Unlearn-Saliency/Classification/assets/train/0model_SA_best.pth.tar\")\n",
        "!python -u main_forget.py --save_dir \"assets/unlearn\" --model_path \"assets/train/0model_SA_best.pth.tar\" --unlearn GA --num_indexes_to_replace 100  --unlearn_epochs 5 --unlearn_lr 6e-3\n",
        "assert os.path.exists(\"/content/Unlearn-Saliency/Classification/assets/unlearn/GAeval_result.pth.tar\")"
      ],
      "metadata": {
        "colab": {
          "base_uri": "https://localhost:8080/"
        },
        "id": "3v3yyxhdOix2",
        "outputId": "67697983-76b5-4aaa-db1f-b0abc5192577"
      },
      "execution_count": 20,
      "outputs": [
        {
          "output_type": "stream",
          "name": "stdout",
          "text": [
            "setup random seed = 2\n",
            "Dataset information: CIFAR-10\t 45000 images for training \t 5000 images for validation\t\n",
            "10000 images for testing\t no normalize applied in data_transform\n",
            "Data augmentation = randomcrop(32,4) + randomhorizontalflip\n",
            "Files already downloaded and verified\n",
            "Files already downloaded and verified\n",
            "Dataset information: CIFAR-10\t 45000 images for training \t 5000 images for validation\t\n",
            "10000 images for testing\t no normalize applied in data_transform\n",
            "Data augmentation = randomcrop(32,4) + randomhorizontalflip\n",
            "Files already downloaded and verified\n",
            "Files already downloaded and verified\n",
            "Replacing indexes [25275 12561 24707 25066 33429 44157 40878 23566 25887 37512 13985 17087\n",
            "  4578  2741 17535 35513 32653 18505 23223 14479 41141 33469 22852 39997\n",
            "  8097 43099 10276   835 41465 35613 38617 21112  8078 31253 13296 15984\n",
            " 16816  6975  7638  2639 25521   391 31814 33933  7174 43075 29001 41116\n",
            " 22572  3570 34750  1212 33571 33574 30184 33830 14812 20000 27825 32625\n",
            " 25018 36215 38407 35175 12465 43714 13956 43294  5642 12473 15060 36167\n",
            " 39221 26641 35772  9133 12281 21071 35253 37097  7942 32698 35015 35527\n",
            " 25187 30765 19547 20194 27548 14591 25541 40865 15357 13448 41687 22482\n",
            " 43218 24567  7146 12584]\n",
            "setup random seed = 1\n",
            "The normalize layer is contained in the network\n",
            "setup random seed = 1\n",
            "setup random seed = 2\n",
            "setup random seed = 2\n",
            "number of retain dataset 44900\n",
            "number of forget dataset 100\n",
            "Epoch #0, Learning rate: 0.01\n",
            "train_accuracy 9.000\n",
            "one epoch duration:1.1340258121490479\n",
            "Epoch #1, Learning rate: 0.01\n",
            "train_accuracy 9.000\n",
            "one epoch duration:0.14780759811401367\n",
            "Epoch #2, Learning rate: 0.01\n",
            "train_accuracy 9.000\n",
            "one epoch duration:0.10780572891235352\n",
            "Epoch #3, Learning rate: 0.01\n",
            "train_accuracy 9.000\n",
            "one epoch duration:0.11730670928955078\n",
            "Epoch #4, Learning rate: 0.01\n",
            "train_accuracy 9.000\n",
            "one epoch duration:0.10941100120544434\n",
            "Test: [0/176]\tLoss 179117.7656 (179117.7656)\tAccuracy 8.984 (8.984)\n",
            "Test: [50/176]\tLoss 190542.3281 (178294.2132)\tAccuracy 7.422 (10.317)\n",
            "Test: [100/176]\tLoss 174518.8281 (177967.2002)\tAccuracy 13.281 (10.009)\n",
            "Test: [150/176]\tLoss 186024.0156 (178157.9486)\tAccuracy 8.203 (10.024)\n",
            "valid_accuracy 10.002\n",
            "retain acc: 10.002227171492205\n",
            "Test: [0/1]\tLoss 182114.5469 (182114.5469)\tAccuracy 9.000 (9.000)\n",
            "valid_accuracy 9.000\n",
            "forget acc: 9.0\n",
            "Test: [0/20]\tLoss 277784.9688 (277784.9688)\tAccuracy 0.000 (0.000)\n",
            "valid_accuracy 10.000\n",
            "val acc: 10.0\n",
            "Test: [0/40]\tLoss 192065.6875 (192065.6875)\tAccuracy 9.375 (9.375)\n",
            "valid_accuracy 10.000\n",
            "test acc: 10.0\n",
            "CPU times: user 442 ms, sys: 65 ms, total: 507 ms\n",
            "Wall time: 1min 26s\n"
          ]
        }
      ]
    },
    {
      "cell_type": "markdown",
      "source": [
        "# IU"
      ],
      "metadata": {
        "id": "KKlhdwFlNipJ"
      }
    },
    {
      "cell_type": "code",
      "source": [
        "%%time\n",
        "assert os.path.exists(\"/content/Unlearn-Saliency/Classification/assets/train/0model_SA_best.pth.tar\")\n",
        "!python -u main_forget.py --save_dir \"assets/unlearn\" --model_path \"assets/train/0model_SA_best.pth.tar\" --unlearn wfisher --num_indexes_to_replace 100 --unlearn_epochs 2\n",
        "assert os.path.exists(\"/content/Unlearn-Saliency/Classification/assets/unlearn/wfishereval_result.pth.tar\")\n"
      ],
      "metadata": {
        "colab": {
          "base_uri": "https://localhost:8080/"
        },
        "id": "_kseV00lCl6X",
        "outputId": "831305ba-76da-49bd-fe5f-c09adf8d48c3"
      },
      "execution_count": 26,
      "outputs": [
        {
          "output_type": "stream",
          "name": "stdout",
          "text": [
            "setup random seed = 2\n",
            "Dataset information: CIFAR-10\t 45000 images for training \t 5000 images for validation\t\n",
            "10000 images for testing\t no normalize applied in data_transform\n",
            "Data augmentation = randomcrop(32,4) + randomhorizontalflip\n",
            "Files already downloaded and verified\n",
            "Files already downloaded and verified\n",
            "Dataset information: CIFAR-10\t 45000 images for training \t 5000 images for validation\t\n",
            "10000 images for testing\t no normalize applied in data_transform\n",
            "Data augmentation = randomcrop(32,4) + randomhorizontalflip\n",
            "Files already downloaded and verified\n",
            "Files already downloaded and verified\n",
            "Replacing indexes [25275 12561 24707 25066 33429 44157 40878 23566 25887 37512 13985 17087\n",
            "  4578  2741 17535 35513 32653 18505 23223 14479 41141 33469 22852 39997\n",
            "  8097 43099 10276   835 41465 35613 38617 21112  8078 31253 13296 15984\n",
            " 16816  6975  7638  2639 25521   391 31814 33933  7174 43075 29001 41116\n",
            " 22572  3570 34750  1212 33571 33574 30184 33830 14812 20000 27825 32625\n",
            " 25018 36215 38407 35175 12465 43714 13956 43294  5642 12473 15060 36167\n",
            " 39221 26641 35772  9133 12281 21071 35253 37097  7942 32698 35015 35527\n",
            " 25187 30765 19547 20194 27548 14591 25541 40865 15357 13448 41687 22482\n",
            " 43218 24567  7146 12584]\n",
            "setup random seed = 1\n",
            "The normalize layer is contained in the network\n",
            "setup random seed = 1\n",
            "setup random seed = 2\n",
            "setup random seed = 2\n",
            "number of retain dataset 44900\n",
            "number of forget dataset 100\n",
            "100% 1/1 [00:01<00:00,  1.25s/it]\n",
            "100% 176/176 [00:34<00:00,  5.08it/s]\n",
            "  2% 1001/44900 [00:09<06:58, 104.89it/s]\n",
            "Test: [0/176]\tLoss 0.0592 (0.0592)\tAccuracy 99.219 (99.219)\n",
            "Test: [50/176]\tLoss 0.0367 (0.0236)\tAccuracy 99.609 (99.449)\n",
            "Test: [100/176]\tLoss 0.0037 (0.0211)\tAccuracy 100.000 (99.478)\n",
            "Test: [150/176]\tLoss 0.0145 (0.0212)\tAccuracy 99.219 (99.472)\n",
            "valid_accuracy 99.474\n",
            "retain acc: 99.47438752783964\n",
            "Test: [0/1]\tLoss 0.0352 (0.0352)\tAccuracy 98.000 (98.000)\n",
            "valid_accuracy 98.000\n",
            "forget acc: 98.0\n",
            "Test: [0/20]\tLoss 0.1315 (0.1315)\tAccuracy 95.312 (95.312)\n",
            "valid_accuracy 94.900\n",
            "val acc: 94.89999986572266\n",
            "Test: [0/40]\tLoss 0.2718 (0.2718)\tAccuracy 94.141 (94.141)\n",
            "valid_accuracy 94.650\n",
            "test acc: 94.65\n",
            "CPU times: user 1.02 s, sys: 110 ms, total: 1.14 s\n",
            "Wall time: 2min 35s\n"
          ]
        }
      ]
    },
    {
      "cell_type": "markdown",
      "source": [
        "#l1-sparse"
      ],
      "metadata": {
        "id": "qawJGOPsMj1w"
      }
    },
    {
      "cell_type": "code",
      "source": [
        "%%time\n",
        "# alpha = learn noise. Default 0.2\n",
        "assert os.path.exists(\"/content/Unlearn-Saliency/Classification/assets/train/0model_SA_best.pth.tar\")\n",
        "!python -u main_forget.py --save_dir \"assets/unlearn\" --model_path \"assets/train/0model_SA_best.pth.tar\" --unlearn FT_prune --num_indexes_to_replace 100  --unlearn_epochs 2 --unlearn_lr 6e-3 --alpha 0.2\n",
        "assert os.path.exists(\"/content/Unlearn-Saliency/Classification/assets/unlearn/FT_pruneeval_result.pth.tar\")\n"
      ],
      "metadata": {
        "colab": {
          "base_uri": "https://localhost:8080/"
        },
        "id": "0HIL6yRfLlUb",
        "outputId": "127c8138-7bc7-4d11-de8f-27725e3b6f8a"
      },
      "execution_count": 16,
      "outputs": [
        {
          "output_type": "stream",
          "name": "stdout",
          "text": [
            "setup random seed = 2\n",
            "Dataset information: CIFAR-10\t 45000 images for training \t 5000 images for validation\t\n",
            "10000 images for testing\t no normalize applied in data_transform\n",
            "Data augmentation = randomcrop(32,4) + randomhorizontalflip\n",
            "Files already downloaded and verified\n",
            "Files already downloaded and verified\n",
            "Dataset information: CIFAR-10\t 45000 images for training \t 5000 images for validation\t\n",
            "10000 images for testing\t no normalize applied in data_transform\n",
            "Data augmentation = randomcrop(32,4) + randomhorizontalflip\n",
            "Files already downloaded and verified\n",
            "Files already downloaded and verified\n",
            "Replacing indexes [25275 12561 24707 25066 33429 44157 40878 23566 25887 37512 13985 17087\n",
            "  4578  2741 17535 35513 32653 18505 23223 14479 41141 33469 22852 39997\n",
            "  8097 43099 10276   835 41465 35613 38617 21112  8078 31253 13296 15984\n",
            " 16816  6975  7638  2639 25521   391 31814 33933  7174 43075 29001 41116\n",
            " 22572  3570 34750  1212 33571 33574 30184 33830 14812 20000 27825 32625\n",
            " 25018 36215 38407 35175 12465 43714 13956 43294  5642 12473 15060 36167\n",
            " 39221 26641 35772  9133 12281 21071 35253 37097  7942 32698 35015 35527\n",
            " 25187 30765 19547 20194 27548 14591 25541 40865 15357 13448 41687 22482\n",
            " 43218 24567  7146 12584]\n",
            "setup random seed = 1\n",
            "The normalize layer is contained in the network\n",
            "setup random seed = 1\n",
            "setup random seed = 2\n",
            "setup random seed = 2\n",
            "number of retain dataset 44900\n",
            "number of forget dataset 100\n",
            "Epoch #0, Learning rate: 0.01\n",
            "Epoch: [0][49/176]\tLoss 94299.3906 (299480.2445)\tAccuracy 10.547 (10.656)\tTime 14.70\n",
            "Epoch: [0][99/176]\tLoss 2871.3643 (158460.7053)\tAccuracy 4.688 (10.438)\tTime 13.15\n",
            "Epoch: [0][149/176]\tLoss 1835.3313 (106709.1656)\tAccuracy 12.109 (10.141)\tTime 13.23\n",
            "train_accuracy 10.042\n",
            "one epoch duration:48.08415913581848\n",
            "Epoch #1, Learning rate: 0.01\n",
            "Epoch: [1][49/176]\tLoss 1276.3547 (1181.2611)\tAccuracy 9.766 (10.070)\tTime 13.35\n",
            "Epoch: [1][99/176]\tLoss 817.8893 (1167.2462)\tAccuracy 8.594 (10.066)\tTime 13.46\n",
            "Epoch: [1][149/176]\tLoss 1344.6820 (1157.7898)\tAccuracy 11.328 (10.044)\tTime 13.55\n",
            "train_accuracy 10.022\n",
            "one epoch duration:47.11053204536438\n",
            "* remain weight ratio =  78.69847136433762 %\n",
            "Test: [0/40]\tLoss 2.3025 (2.3025)\tAccuracy 10.156 (10.156)\n",
            "valid_accuracy 10.000\n",
            "Test: [0/176]\tLoss 2.3026 (2.3026)\tAccuracy 9.766 (9.766)\n",
            "Test: [50/176]\tLoss 2.3026 (2.3026)\tAccuracy 11.719 (10.041)\n",
            "Test: [100/176]\tLoss 2.3025 (2.3026)\tAccuracy 9.375 (10.079)\n",
            "Test: [150/176]\tLoss 2.3025 (2.3026)\tAccuracy 9.375 (9.934)\n",
            "valid_accuracy 10.004\n",
            "retain acc: 10.00445434298441\n",
            "Test: [0/1]\tLoss 2.3027 (2.3027)\tAccuracy 8.000 (8.000)\n",
            "valid_accuracy 8.000\n",
            "forget acc: 8.0\n",
            "Test: [0/20]\tLoss 2.2999 (2.2999)\tAccuracy 100.000 (100.000)\n",
            "valid_accuracy 10.000\n",
            "val acc: 10.0\n",
            "Test: [0/40]\tLoss 2.3025 (2.3025)\tAccuracy 10.156 (10.156)\n",
            "valid_accuracy 10.000\n",
            "test acc: 10.0\n"
          ]
        }
      ]
    },
    {
      "cell_type": "code",
      "source": [
        "%%time\n",
        "assert os.path.exists(\"/content/Unlearn-Saliency/Classification/assets/train/0model_SA_best.pth.tar\")\n",
        "!python -u main_forget.py --save_dir \"assets/unlearn\" --model_path \"assets/train/0model_SA_best.pth.tar\" --unlearn FT_prune --num_indexes_to_replace 100  --unlearn_epochs 5 --unlearn_lr 6e-3 --alpha 0.2\n",
        "assert os.path.exists(\"/content/Unlearn-Saliency/Classification/assets/unlearn/FT_pruneeval_result.pth.tar\")\n"
      ],
      "metadata": {
        "colab": {
          "base_uri": "https://localhost:8080/"
        },
        "id": "qOE9AS5RJzcV",
        "outputId": "40f7e5f4-c762-4a38-cfbf-57383c742969"
      },
      "execution_count": 18,
      "outputs": [
        {
          "output_type": "stream",
          "name": "stdout",
          "text": [
            "setup random seed = 2\n",
            "Dataset information: CIFAR-10\t 45000 images for training \t 5000 images for validation\t\n",
            "10000 images for testing\t no normalize applied in data_transform\n",
            "Data augmentation = randomcrop(32,4) + randomhorizontalflip\n",
            "Files already downloaded and verified\n",
            "Files already downloaded and verified\n",
            "Dataset information: CIFAR-10\t 45000 images for training \t 5000 images for validation\t\n",
            "10000 images for testing\t no normalize applied in data_transform\n",
            "Data augmentation = randomcrop(32,4) + randomhorizontalflip\n",
            "Files already downloaded and verified\n",
            "Files already downloaded and verified\n",
            "Replacing indexes [25275 12561 24707 25066 33429 44157 40878 23566 25887 37512 13985 17087\n",
            "  4578  2741 17535 35513 32653 18505 23223 14479 41141 33469 22852 39997\n",
            "  8097 43099 10276   835 41465 35613 38617 21112  8078 31253 13296 15984\n",
            " 16816  6975  7638  2639 25521   391 31814 33933  7174 43075 29001 41116\n",
            " 22572  3570 34750  1212 33571 33574 30184 33830 14812 20000 27825 32625\n",
            " 25018 36215 38407 35175 12465 43714 13956 43294  5642 12473 15060 36167\n",
            " 39221 26641 35772  9133 12281 21071 35253 37097  7942 32698 35015 35527\n",
            " 25187 30765 19547 20194 27548 14591 25541 40865 15357 13448 41687 22482\n",
            " 43218 24567  7146 12584]\n",
            "setup random seed = 1\n",
            "The normalize layer is contained in the network\n",
            "setup random seed = 1\n",
            "setup random seed = 2\n",
            "setup random seed = 2\n",
            "number of retain dataset 44900\n",
            "number of forget dataset 100\n",
            "Epoch #0, Learning rate: 0.01\n",
            "Epoch: [0][49/176]\tLoss 94299.3906 (299480.2445)\tAccuracy 10.547 (10.656)\tTime 14.68\n",
            "Epoch: [0][99/176]\tLoss 2871.3643 (158460.7053)\tAccuracy 4.688 (10.438)\tTime 13.67\n",
            "Epoch: [0][149/176]\tLoss 1835.3313 (106709.1656)\tAccuracy 12.109 (10.141)\tTime 13.86\n",
            "train_accuracy 10.042\n",
            "one epoch duration:49.076624631881714\n",
            "Epoch #1, Learning rate: 0.01\n",
            "Epoch: [1][49/176]\tLoss 3207.3516 (2351.7302)\tAccuracy 14.062 (10.148)\tTime 13.97\n",
            "Epoch: [1][99/176]\tLoss 2517.6570 (2367.2239)\tAccuracy 7.031 (9.801)\tTime 13.81\n",
            "Epoch: [1][149/176]\tLoss 4270.7749 (2387.3464)\tAccuracy 10.156 (9.758)\tTime 13.72\n",
            "train_accuracy 9.864\n",
            "one epoch duration:48.72014784812927\n",
            "Epoch #2, Learning rate: 0.01\n",
            "Epoch: [2][49/176]\tLoss 808.6334 (1558.4952)\tAccuracy 12.109 (10.078)\tTime 13.74\n",
            "Epoch: [2][99/176]\tLoss 2052.3008 (1365.3195)\tAccuracy 12.109 (9.926)\tTime 13.73\n",
            "Epoch: [2][149/176]\tLoss 608.0187 (1289.3393)\tAccuracy 10.938 (10.073)\tTime 13.78\n",
            "train_accuracy 10.096\n",
            "one epoch duration:48.19116187095642\n",
            "Epoch #3, Learning rate: 0.01\n",
            "Epoch: [3][49/176]\tLoss 460.2713 (447.7369)\tAccuracy 9.766 (9.750)\tTime 13.81\n",
            "Epoch: [3][99/176]\tLoss 342.6878 (429.1166)\tAccuracy 9.766 (9.488)\tTime 13.74\n",
            "Epoch: [3][149/176]\tLoss 454.3802 (432.4263)\tAccuracy 9.375 (9.688)\tTime 13.83\n",
            "train_accuracy 9.802\n",
            "one epoch duration:49.72754693031311\n",
            "Epoch #4, Learning rate: 0.01\n",
            "Epoch: [4][49/176]\tLoss 79.8910 (114.8913)\tAccuracy 10.547 (9.938)\tTime 13.75\n",
            "Epoch: [4][99/176]\tLoss 90.7242 (107.1479)\tAccuracy 13.281 (9.910)\tTime 14.34\n",
            "Epoch: [4][149/176]\tLoss 93.4828 (104.3311)\tAccuracy 12.109 (9.961)\tTime 14.16\n",
            "train_accuracy 10.004\n",
            "one epoch duration:49.531710386276245\n",
            "* remain weight ratio =  78.69847136433762 %\n",
            "Test: [0/40]\tLoss 2.3024 (2.3024)\tAccuracy 13.281 (13.281)\n",
            "valid_accuracy 10.000\n",
            "Test: [0/176]\tLoss 2.3027 (2.3027)\tAccuracy 7.812 (7.812)\n",
            "Test: [50/176]\tLoss 2.3027 (2.3026)\tAccuracy 9.375 (9.589)\n",
            "Test: [100/176]\tLoss 2.3025 (2.3026)\tAccuracy 9.766 (9.839)\n",
            "Test: [150/176]\tLoss 2.3026 (2.3026)\tAccuracy 9.766 (10.014)\n",
            "valid_accuracy 9.996\n",
            "retain acc: 9.99554565701559\n",
            "Test: [0/1]\tLoss 2.3025 (2.3025)\tAccuracy 12.000 (12.000)\n",
            "valid_accuracy 12.000\n",
            "forget acc: 12.0\n",
            "Test: [0/20]\tLoss 2.3041 (2.3041)\tAccuracy 0.000 (0.000)\n",
            "valid_accuracy 10.000\n",
            "val acc: 10.0\n",
            "Test: [0/40]\tLoss 2.3024 (2.3024)\tAccuracy 13.281 (13.281)\n",
            "valid_accuracy 10.000\n",
            "test acc: 10.0\n",
            "CPU times: user 1.58 s, sys: 220 ms, total: 1.8 s\n",
            "Wall time: 5min 39s\n"
          ]
        }
      ]
    },
    {
      "cell_type": "code",
      "source": [
        "!nvidia-smi"
      ],
      "metadata": {
        "colab": {
          "base_uri": "https://localhost:8080/"
        },
        "id": "8pPXZHdNN5tQ",
        "outputId": "d9cfc98c-3746-4b11-d316-4b642110dd77"
      },
      "execution_count": 19,
      "outputs": [
        {
          "output_type": "stream",
          "name": "stdout",
          "text": [
            "Fri Dec 13 18:11:46 2024       \n",
            "+---------------------------------------------------------------------------------------+\n",
            "| NVIDIA-SMI 535.104.05             Driver Version: 535.104.05   CUDA Version: 12.2     |\n",
            "|-----------------------------------------+----------------------+----------------------+\n",
            "| GPU  Name                 Persistence-M | Bus-Id        Disp.A | Volatile Uncorr. ECC |\n",
            "| Fan  Temp   Perf          Pwr:Usage/Cap |         Memory-Usage | GPU-Util  Compute M. |\n",
            "|                                         |                      |               MIG M. |\n",
            "|=========================================+======================+======================|\n",
            "|   0  Tesla T4                       Off | 00000000:00:04.0 Off |                    0 |\n",
            "| N/A   71C    P0              33W /  70W |      0MiB / 15360MiB |      0%      Default |\n",
            "|                                         |                      |                  N/A |\n",
            "+-----------------------------------------+----------------------+----------------------+\n",
            "                                                                                         \n",
            "+---------------------------------------------------------------------------------------+\n",
            "| Processes:                                                                            |\n",
            "|  GPU   GI   CI        PID   Type   Process name                            GPU Memory |\n",
            "|        ID   ID                                                             Usage      |\n",
            "|=======================================================================================|\n",
            "|  No running processes found                                                           |\n",
            "+---------------------------------------------------------------------------------------+\n"
          ]
        }
      ]
    },
    {
      "cell_type": "code",
      "source": [],
      "metadata": {
        "id": "c6z-hx97N9PK"
      },
      "execution_count": null,
      "outputs": []
    },
    {
      "cell_type": "code",
      "source": [],
      "metadata": {
        "id": "jJlYb0HiOyyc"
      },
      "execution_count": null,
      "outputs": []
    }
  ]
}